{
  "nbformat": 4,
  "nbformat_minor": 0,
  "metadata": {
    "colab": {
      "provenance": [],
      "toc_visible": true,
      "authorship_tag": "ABX9TyP7Cyjlb5xZK3GnuJ6BDFmR",
      "include_colab_link": true
    },
    "kernelspec": {
      "name": "python3",
      "display_name": "Python 3"
    },
    "language_info": {
      "name": "python"
    }
  },
  "cells": [
    {
      "cell_type": "markdown",
      "metadata": {
        "id": "view-in-github",
        "colab_type": "text"
      },
      "source": [
        "<a href=\"https://colab.research.google.com/github/DianTaurutubun/youtube-comment-sentimental-analysis/blob/main/demo2Senti_py.ipynb\" target=\"_parent\"><img src=\"https://colab.research.google.com/assets/colab-badge.svg\" alt=\"Open In Colab\"/></a>"
      ]
    },
    {
      "cell_type": "markdown",
      "source": [
        "fungsi !pip install streamlit adalah untuk memastikan bahwa streamlit tersedia di lingkungan Python sehingga Anda dapat menggunakannya untuk membangun aplikasi web."
      ],
      "metadata": {
        "id": "gnP4QFMTM_oz"
      }
    },
    {
      "cell_type": "code",
      "source": [
        "!pip install streamlit"
      ],
      "metadata": {
        "colab": {
          "base_uri": "https://localhost:8080/"
        },
        "id": "Qx8MdpnRJ2R9",
        "outputId": "7f4eea11-a9e3-45b3-b05b-050710ad3eeb"
      },
      "execution_count": null,
      "outputs": [
        {
          "output_type": "stream",
          "name": "stdout",
          "text": [
            "Collecting streamlit\n",
            "  Downloading streamlit-1.37.1-py2.py3-none-any.whl.metadata (8.5 kB)\n",
            "Requirement already satisfied: altair<6,>=4.0 in /usr/local/lib/python3.10/dist-packages (from streamlit) (4.2.2)\n",
            "Requirement already satisfied: blinker<2,>=1.0.0 in /usr/lib/python3/dist-packages (from streamlit) (1.4)\n",
            "Requirement already satisfied: cachetools<6,>=4.0 in /usr/local/lib/python3.10/dist-packages (from streamlit) (5.4.0)\n",
            "Requirement already satisfied: click<9,>=7.0 in /usr/local/lib/python3.10/dist-packages (from streamlit) (8.1.7)\n",
            "Requirement already satisfied: numpy<3,>=1.20 in /usr/local/lib/python3.10/dist-packages (from streamlit) (1.26.4)\n",
            "Requirement already satisfied: packaging<25,>=20 in /usr/local/lib/python3.10/dist-packages (from streamlit) (24.1)\n",
            "Requirement already satisfied: pandas<3,>=1.3.0 in /usr/local/lib/python3.10/dist-packages (from streamlit) (2.1.4)\n",
            "Requirement already satisfied: pillow<11,>=7.1.0 in /usr/local/lib/python3.10/dist-packages (from streamlit) (9.4.0)\n",
            "Requirement already satisfied: protobuf<6,>=3.20 in /usr/local/lib/python3.10/dist-packages (from streamlit) (3.20.3)\n",
            "Requirement already satisfied: pyarrow>=7.0 in /usr/local/lib/python3.10/dist-packages (from streamlit) (14.0.2)\n",
            "Requirement already satisfied: requests<3,>=2.27 in /usr/local/lib/python3.10/dist-packages (from streamlit) (2.32.3)\n",
            "Requirement already satisfied: rich<14,>=10.14.0 in /usr/local/lib/python3.10/dist-packages (from streamlit) (13.7.1)\n",
            "Collecting tenacity<9,>=8.1.0 (from streamlit)\n",
            "  Downloading tenacity-8.5.0-py3-none-any.whl.metadata (1.2 kB)\n",
            "Requirement already satisfied: toml<2,>=0.10.1 in /usr/local/lib/python3.10/dist-packages (from streamlit) (0.10.2)\n",
            "Requirement already satisfied: typing-extensions<5,>=4.3.0 in /usr/local/lib/python3.10/dist-packages (from streamlit) (4.12.2)\n",
            "Collecting gitpython!=3.1.19,<4,>=3.0.7 (from streamlit)\n",
            "  Downloading GitPython-3.1.43-py3-none-any.whl.metadata (13 kB)\n",
            "Collecting pydeck<1,>=0.8.0b4 (from streamlit)\n",
            "  Downloading pydeck-0.9.1-py2.py3-none-any.whl.metadata (4.1 kB)\n",
            "Requirement already satisfied: tornado<7,>=6.0.3 in /usr/local/lib/python3.10/dist-packages (from streamlit) (6.3.3)\n",
            "Collecting watchdog<5,>=2.1.5 (from streamlit)\n",
            "  Downloading watchdog-4.0.1-py3-none-manylinux2014_x86_64.whl.metadata (37 kB)\n",
            "Requirement already satisfied: entrypoints in /usr/local/lib/python3.10/dist-packages (from altair<6,>=4.0->streamlit) (0.4)\n",
            "Requirement already satisfied: jinja2 in /usr/local/lib/python3.10/dist-packages (from altair<6,>=4.0->streamlit) (3.1.4)\n",
            "Requirement already satisfied: jsonschema>=3.0 in /usr/local/lib/python3.10/dist-packages (from altair<6,>=4.0->streamlit) (4.23.0)\n",
            "Requirement already satisfied: toolz in /usr/local/lib/python3.10/dist-packages (from altair<6,>=4.0->streamlit) (0.12.1)\n",
            "Collecting gitdb<5,>=4.0.1 (from gitpython!=3.1.19,<4,>=3.0.7->streamlit)\n",
            "  Downloading gitdb-4.0.11-py3-none-any.whl.metadata (1.2 kB)\n",
            "Requirement already satisfied: python-dateutil>=2.8.2 in /usr/local/lib/python3.10/dist-packages (from pandas<3,>=1.3.0->streamlit) (2.8.2)\n",
            "Requirement already satisfied: pytz>=2020.1 in /usr/local/lib/python3.10/dist-packages (from pandas<3,>=1.3.0->streamlit) (2024.1)\n",
            "Requirement already satisfied: tzdata>=2022.1 in /usr/local/lib/python3.10/dist-packages (from pandas<3,>=1.3.0->streamlit) (2024.1)\n",
            "Requirement already satisfied: charset-normalizer<4,>=2 in /usr/local/lib/python3.10/dist-packages (from requests<3,>=2.27->streamlit) (3.3.2)\n",
            "Requirement already satisfied: idna<4,>=2.5 in /usr/local/lib/python3.10/dist-packages (from requests<3,>=2.27->streamlit) (3.7)\n",
            "Requirement already satisfied: urllib3<3,>=1.21.1 in /usr/local/lib/python3.10/dist-packages (from requests<3,>=2.27->streamlit) (2.0.7)\n",
            "Requirement already satisfied: certifi>=2017.4.17 in /usr/local/lib/python3.10/dist-packages (from requests<3,>=2.27->streamlit) (2024.7.4)\n",
            "Requirement already satisfied: markdown-it-py>=2.2.0 in /usr/local/lib/python3.10/dist-packages (from rich<14,>=10.14.0->streamlit) (3.0.0)\n",
            "Requirement already satisfied: pygments<3.0.0,>=2.13.0 in /usr/local/lib/python3.10/dist-packages (from rich<14,>=10.14.0->streamlit) (2.16.1)\n",
            "Collecting smmap<6,>=3.0.1 (from gitdb<5,>=4.0.1->gitpython!=3.1.19,<4,>=3.0.7->streamlit)\n",
            "  Downloading smmap-5.0.1-py3-none-any.whl.metadata (4.3 kB)\n",
            "Requirement already satisfied: MarkupSafe>=2.0 in /usr/local/lib/python3.10/dist-packages (from jinja2->altair<6,>=4.0->streamlit) (2.1.5)\n",
            "Requirement already satisfied: attrs>=22.2.0 in /usr/local/lib/python3.10/dist-packages (from jsonschema>=3.0->altair<6,>=4.0->streamlit) (24.1.0)\n",
            "Requirement already satisfied: jsonschema-specifications>=2023.03.6 in /usr/local/lib/python3.10/dist-packages (from jsonschema>=3.0->altair<6,>=4.0->streamlit) (2023.12.1)\n",
            "Requirement already satisfied: referencing>=0.28.4 in /usr/local/lib/python3.10/dist-packages (from jsonschema>=3.0->altair<6,>=4.0->streamlit) (0.35.1)\n",
            "Requirement already satisfied: rpds-py>=0.7.1 in /usr/local/lib/python3.10/dist-packages (from jsonschema>=3.0->altair<6,>=4.0->streamlit) (0.19.1)\n",
            "Requirement already satisfied: mdurl~=0.1 in /usr/local/lib/python3.10/dist-packages (from markdown-it-py>=2.2.0->rich<14,>=10.14.0->streamlit) (0.1.2)\n",
            "Requirement already satisfied: six>=1.5 in /usr/local/lib/python3.10/dist-packages (from python-dateutil>=2.8.2->pandas<3,>=1.3.0->streamlit) (1.16.0)\n",
            "Downloading streamlit-1.37.1-py2.py3-none-any.whl (8.7 MB)\n",
            "\u001b[2K   \u001b[90m━━━━━━━━━━━━━━━━━━━━━━━━━━━━━━━━━━━━━━━━\u001b[0m \u001b[32m8.7/8.7 MB\u001b[0m \u001b[31m55.6 MB/s\u001b[0m eta \u001b[36m0:00:00\u001b[0m\n",
            "\u001b[?25hDownloading GitPython-3.1.43-py3-none-any.whl (207 kB)\n",
            "\u001b[2K   \u001b[90m━━━━━━━━━━━━━━━━━━━━━━━━━━━━━━━━━━━━━━━━\u001b[0m \u001b[32m207.3/207.3 kB\u001b[0m \u001b[31m13.5 MB/s\u001b[0m eta \u001b[36m0:00:00\u001b[0m\n",
            "\u001b[?25hDownloading pydeck-0.9.1-py2.py3-none-any.whl (6.9 MB)\n",
            "\u001b[2K   \u001b[90m━━━━━━━━━━━━━━━━━━━━━━━━━━━━━━━━━━━━━━━━\u001b[0m \u001b[32m6.9/6.9 MB\u001b[0m \u001b[31m54.9 MB/s\u001b[0m eta \u001b[36m0:00:00\u001b[0m\n",
            "\u001b[?25hDownloading tenacity-8.5.0-py3-none-any.whl (28 kB)\n",
            "Downloading watchdog-4.0.1-py3-none-manylinux2014_x86_64.whl (83 kB)\n",
            "\u001b[2K   \u001b[90m━━━━━━━━━━━━━━━━━━━━━━━━━━━━━━━━━━━━━━━━\u001b[0m \u001b[32m83.0/83.0 kB\u001b[0m \u001b[31m6.3 MB/s\u001b[0m eta \u001b[36m0:00:00\u001b[0m\n",
            "\u001b[?25hDownloading gitdb-4.0.11-py3-none-any.whl (62 kB)\n",
            "\u001b[2K   \u001b[90m━━━━━━━━━━━━━━━━━━━━━━━━━━━━━━━━━━━━━━━━\u001b[0m \u001b[32m62.7/62.7 kB\u001b[0m \u001b[31m3.9 MB/s\u001b[0m eta \u001b[36m0:00:00\u001b[0m\n",
            "\u001b[?25hDownloading smmap-5.0.1-py3-none-any.whl (24 kB)\n",
            "Installing collected packages: watchdog, tenacity, smmap, pydeck, gitdb, gitpython, streamlit\n",
            "  Attempting uninstall: tenacity\n",
            "    Found existing installation: tenacity 9.0.0\n",
            "    Uninstalling tenacity-9.0.0:\n",
            "      Successfully uninstalled tenacity-9.0.0\n",
            "Successfully installed gitdb-4.0.11 gitpython-3.1.43 pydeck-0.9.1 smmap-5.0.1 streamlit-1.37.1 tenacity-8.5.0 watchdog-4.0.1\n"
          ]
        }
      ]
    },
    {
      "cell_type": "markdown",
      "source": [],
      "metadata": {
        "id": "T0mD4x6zQIH_"
      }
    },
    {
      "cell_type": "code",
      "source": [],
      "metadata": {
        "id": "9DRqverQFe0T"
      },
      "execution_count": null,
      "outputs": []
    },
    {
      "cell_type": "code",
      "source": [],
      "metadata": {
        "id": "Y_xatw0JQCVZ"
      },
      "execution_count": null,
      "outputs": []
    },
    {
      "cell_type": "markdown",
      "source": [],
      "metadata": {
        "id": "Eux9aoC-LS4I"
      }
    },
    {
      "cell_type": "code",
      "source": [
        "!pip install colorama\n"
      ],
      "metadata": {
        "colab": {
          "base_uri": "https://localhost:8080/"
        },
        "id": "VYyTkH35NBRe",
        "outputId": "fa4c1963-1def-4b9f-cbb7-d81445c23062"
      },
      "execution_count": 5,
      "outputs": [
        {
          "output_type": "stream",
          "name": "stdout",
          "text": [
            "Collecting colorama\n",
            "  Downloading colorama-0.4.6-py2.py3-none-any.whl.metadata (17 kB)\n",
            "Downloading colorama-0.4.6-py2.py3-none-any.whl (25 kB)\n",
            "Installing collected packages: colorama\n",
            "Successfully installed colorama-0.4.6\n"
          ]
        }
      ]
    },
    {
      "cell_type": "code",
      "source": [],
      "metadata": {
        "id": "FCyX2QxANswC"
      },
      "execution_count": null,
      "outputs": []
    },
    {
      "cell_type": "code",
      "source": [
        "!apt-get -qq install -y libfluidsynth1"
      ],
      "metadata": {
        "colab": {
          "base_uri": "https://localhost:8080/"
        },
        "id": "oq-67XFsNgkH",
        "outputId": "cad4eeb7-abb6-47a3-8a79-08f4fcea01fc"
      },
      "execution_count": 7,
      "outputs": [
        {
          "output_type": "stream",
          "name": "stdout",
          "text": [
            "E: Package 'libfluidsynth1' has no installation candidate\n"
          ]
        }
      ]
    },
    {
      "cell_type": "code",
      "source": [
        "!pip install streamlit"
      ],
      "metadata": {
        "colab": {
          "base_uri": "https://localhost:8080/"
        },
        "id": "2LnEFwzyOHGj",
        "outputId": "12f907a5-b93c-468a-fc7b-8d3aa36ef7a2"
      },
      "execution_count": 10,
      "outputs": [
        {
          "output_type": "stream",
          "name": "stdout",
          "text": [
            "Collecting streamlit\n",
            "  Downloading streamlit-1.37.1-py2.py3-none-any.whl.metadata (8.5 kB)\n",
            "Requirement already satisfied: altair<6,>=4.0 in /usr/local/lib/python3.10/dist-packages (from streamlit) (4.2.2)\n",
            "Requirement already satisfied: blinker<2,>=1.0.0 in /usr/lib/python3/dist-packages (from streamlit) (1.4)\n",
            "Requirement already satisfied: cachetools<6,>=4.0 in /usr/local/lib/python3.10/dist-packages (from streamlit) (5.4.0)\n",
            "Requirement already satisfied: click<9,>=7.0 in /usr/local/lib/python3.10/dist-packages (from streamlit) (8.1.7)\n",
            "Requirement already satisfied: numpy<3,>=1.20 in /usr/local/lib/python3.10/dist-packages (from streamlit) (1.26.4)\n",
            "Requirement already satisfied: packaging<25,>=20 in /usr/local/lib/python3.10/dist-packages (from streamlit) (24.1)\n",
            "Requirement already satisfied: pandas<3,>=1.3.0 in /usr/local/lib/python3.10/dist-packages (from streamlit) (2.1.4)\n",
            "Requirement already satisfied: pillow<11,>=7.1.0 in /usr/local/lib/python3.10/dist-packages (from streamlit) (9.4.0)\n",
            "Requirement already satisfied: protobuf<6,>=3.20 in /usr/local/lib/python3.10/dist-packages (from streamlit) (3.20.3)\n",
            "Requirement already satisfied: pyarrow>=7.0 in /usr/local/lib/python3.10/dist-packages (from streamlit) (14.0.2)\n",
            "Requirement already satisfied: requests<3,>=2.27 in /usr/local/lib/python3.10/dist-packages (from streamlit) (2.32.3)\n",
            "Requirement already satisfied: rich<14,>=10.14.0 in /usr/local/lib/python3.10/dist-packages (from streamlit) (13.7.1)\n",
            "Collecting tenacity<9,>=8.1.0 (from streamlit)\n",
            "  Downloading tenacity-8.5.0-py3-none-any.whl.metadata (1.2 kB)\n",
            "Requirement already satisfied: toml<2,>=0.10.1 in /usr/local/lib/python3.10/dist-packages (from streamlit) (0.10.2)\n",
            "Requirement already satisfied: typing-extensions<5,>=4.3.0 in /usr/local/lib/python3.10/dist-packages (from streamlit) (4.12.2)\n",
            "Collecting gitpython!=3.1.19,<4,>=3.0.7 (from streamlit)\n",
            "  Downloading GitPython-3.1.43-py3-none-any.whl.metadata (13 kB)\n",
            "Collecting pydeck<1,>=0.8.0b4 (from streamlit)\n",
            "  Downloading pydeck-0.9.1-py2.py3-none-any.whl.metadata (4.1 kB)\n",
            "Requirement already satisfied: tornado<7,>=6.0.3 in /usr/local/lib/python3.10/dist-packages (from streamlit) (6.3.3)\n",
            "Collecting watchdog<5,>=2.1.5 (from streamlit)\n",
            "  Downloading watchdog-4.0.1-py3-none-manylinux2014_x86_64.whl.metadata (37 kB)\n",
            "Requirement already satisfied: entrypoints in /usr/local/lib/python3.10/dist-packages (from altair<6,>=4.0->streamlit) (0.4)\n",
            "Requirement already satisfied: jinja2 in /usr/local/lib/python3.10/dist-packages (from altair<6,>=4.0->streamlit) (3.1.4)\n",
            "Requirement already satisfied: jsonschema>=3.0 in /usr/local/lib/python3.10/dist-packages (from altair<6,>=4.0->streamlit) (4.23.0)\n",
            "Requirement already satisfied: toolz in /usr/local/lib/python3.10/dist-packages (from altair<6,>=4.0->streamlit) (0.12.1)\n",
            "Collecting gitdb<5,>=4.0.1 (from gitpython!=3.1.19,<4,>=3.0.7->streamlit)\n",
            "  Downloading gitdb-4.0.11-py3-none-any.whl.metadata (1.2 kB)\n",
            "Requirement already satisfied: python-dateutil>=2.8.2 in /usr/local/lib/python3.10/dist-packages (from pandas<3,>=1.3.0->streamlit) (2.8.2)\n",
            "Requirement already satisfied: pytz>=2020.1 in /usr/local/lib/python3.10/dist-packages (from pandas<3,>=1.3.0->streamlit) (2024.1)\n",
            "Requirement already satisfied: tzdata>=2022.1 in /usr/local/lib/python3.10/dist-packages (from pandas<3,>=1.3.0->streamlit) (2024.1)\n",
            "Requirement already satisfied: charset-normalizer<4,>=2 in /usr/local/lib/python3.10/dist-packages (from requests<3,>=2.27->streamlit) (3.3.2)\n",
            "Requirement already satisfied: idna<4,>=2.5 in /usr/local/lib/python3.10/dist-packages (from requests<3,>=2.27->streamlit) (3.7)\n",
            "Requirement already satisfied: urllib3<3,>=1.21.1 in /usr/local/lib/python3.10/dist-packages (from requests<3,>=2.27->streamlit) (2.0.7)\n",
            "Requirement already satisfied: certifi>=2017.4.17 in /usr/local/lib/python3.10/dist-packages (from requests<3,>=2.27->streamlit) (2024.7.4)\n",
            "Requirement already satisfied: markdown-it-py>=2.2.0 in /usr/local/lib/python3.10/dist-packages (from rich<14,>=10.14.0->streamlit) (3.0.0)\n",
            "Requirement already satisfied: pygments<3.0.0,>=2.13.0 in /usr/local/lib/python3.10/dist-packages (from rich<14,>=10.14.0->streamlit) (2.16.1)\n",
            "Collecting smmap<6,>=3.0.1 (from gitdb<5,>=4.0.1->gitpython!=3.1.19,<4,>=3.0.7->streamlit)\n",
            "  Downloading smmap-5.0.1-py3-none-any.whl.metadata (4.3 kB)\n",
            "Requirement already satisfied: MarkupSafe>=2.0 in /usr/local/lib/python3.10/dist-packages (from jinja2->altair<6,>=4.0->streamlit) (2.1.5)\n",
            "Requirement already satisfied: attrs>=22.2.0 in /usr/local/lib/python3.10/dist-packages (from jsonschema>=3.0->altair<6,>=4.0->streamlit) (24.1.0)\n",
            "Requirement already satisfied: jsonschema-specifications>=2023.03.6 in /usr/local/lib/python3.10/dist-packages (from jsonschema>=3.0->altair<6,>=4.0->streamlit) (2023.12.1)\n",
            "Requirement already satisfied: referencing>=0.28.4 in /usr/local/lib/python3.10/dist-packages (from jsonschema>=3.0->altair<6,>=4.0->streamlit) (0.35.1)\n",
            "Requirement already satisfied: rpds-py>=0.7.1 in /usr/local/lib/python3.10/dist-packages (from jsonschema>=3.0->altair<6,>=4.0->streamlit) (0.19.1)\n",
            "Requirement already satisfied: mdurl~=0.1 in /usr/local/lib/python3.10/dist-packages (from markdown-it-py>=2.2.0->rich<14,>=10.14.0->streamlit) (0.1.2)\n",
            "Requirement already satisfied: six>=1.5 in /usr/local/lib/python3.10/dist-packages (from python-dateutil>=2.8.2->pandas<3,>=1.3.0->streamlit) (1.16.0)\n",
            "Downloading streamlit-1.37.1-py2.py3-none-any.whl (8.7 MB)\n",
            "\u001b[2K   \u001b[90m━━━━━━━━━━━━━━━━━━━━━━━━━━━━━━━━━━━━━━━━\u001b[0m \u001b[32m8.7/8.7 MB\u001b[0m \u001b[31m98.7 MB/s\u001b[0m eta \u001b[36m0:00:00\u001b[0m\n",
            "\u001b[?25hDownloading GitPython-3.1.43-py3-none-any.whl (207 kB)\n",
            "\u001b[2K   \u001b[90m━━━━━━━━━━━━━━━━━━━━━━━━━━━━━━━━━━━━━━━━\u001b[0m \u001b[32m207.3/207.3 kB\u001b[0m \u001b[31m20.1 MB/s\u001b[0m eta \u001b[36m0:00:00\u001b[0m\n",
            "\u001b[?25hDownloading pydeck-0.9.1-py2.py3-none-any.whl (6.9 MB)\n",
            "\u001b[2K   \u001b[90m━━━━━━━━━━━━━━━━━━━━━━━━━━━━━━━━━━━━━━━━\u001b[0m \u001b[32m6.9/6.9 MB\u001b[0m \u001b[31m101.5 MB/s\u001b[0m eta \u001b[36m0:00:00\u001b[0m\n",
            "\u001b[?25hDownloading tenacity-8.5.0-py3-none-any.whl (28 kB)\n",
            "Downloading watchdog-4.0.1-py3-none-manylinux2014_x86_64.whl (83 kB)\n",
            "\u001b[2K   \u001b[90m━━━━━━━━━━━━━━━━━━━━━━━━━━━━━━━━━━━━━━━━\u001b[0m \u001b[32m83.0/83.0 kB\u001b[0m \u001b[31m8.6 MB/s\u001b[0m eta \u001b[36m0:00:00\u001b[0m\n",
            "\u001b[?25hDownloading gitdb-4.0.11-py3-none-any.whl (62 kB)\n",
            "\u001b[2K   \u001b[90m━━━━━━━━━━━━━━━━━━━━━━━━━━━━━━━━━━━━━━━━\u001b[0m \u001b[32m62.7/62.7 kB\u001b[0m \u001b[31m6.4 MB/s\u001b[0m eta \u001b[36m0:00:00\u001b[0m\n",
            "\u001b[?25hDownloading smmap-5.0.1-py3-none-any.whl (24 kB)\n",
            "Installing collected packages: watchdog, tenacity, smmap, pydeck, gitdb, gitpython, streamlit\n",
            "  Attempting uninstall: tenacity\n",
            "    Found existing installation: tenacity 9.0.0\n",
            "    Uninstalling tenacity-9.0.0:\n",
            "      Successfully uninstalled tenacity-9.0.0\n",
            "Successfully installed gitdb-4.0.11 gitpython-3.1.43 pydeck-0.9.1 smmap-5.0.1 streamlit-1.37.1 tenacity-8.5.0 watchdog-4.0.1\n"
          ]
        }
      ]
    },
    {
      "cell_type": "markdown",
      "source": [
        "setiap import di sini berfungsi untuk memasukkan pustaka atau modul tertentu ke dalam kode, memungkinkan kamu menggunakan fungsi-fungsi spesifik dari modul tersebut dalam **proyek** teks tebal **teks tebal** **teks tebal**"
      ],
      "metadata": {
        "id": "fdkUHQqWREJt"
      }
    },
    {
      "cell_type": "code",
      "source": [
        "import csv                   #menulis file CSV (Comma-Separated Values). Ini sering digunakan untuk memproses data berbentuk tabular yang disimpan dalam file teks.\n",
        "import re                    #Mengimpor modul re untuk bekerja dengan regular expressions (ekspresi reguler) di Python. Ini berguna untuk pencocokan pola dan manipulasi string yang kompleks.\n",
        "import pandas as pd          #Mengimpor modul pandas sebagai pd. pandas adalah pustaka yang kuat untuk analisis data dan manipulasi data berbentuk tabel seperti DataFrame.\n",
        "import nltk                  #Mengunduh vader_lexicon, yang merupakan kamus yang digunakan oleh SentimentIntensityAnalyzer untuk analisis sentimen dalam teks.\n",
        "nltk.download('vader_lexicon') #Mengunduh vader_lexicon, yang merupakan kamus yang digunakan oleh SentimentIntensityAnalyzer untuk analisis sentimen dalam teks.\n",
        "from nltk.sentiment.vader import SentimentIntensityAnalyzer #Mengimpor kelas SentimentIntensityAnalyzer dari modul vader dalam nltk. Kelas ini digunakan untuk melakukan analisis sentimen pada teks.\n",
        "import plotly.express as px  #Mengimpor pustaka plotly.express sebagai px. plotly.express menyediakan fungsi-fungsi sederhana untuk membuat grafik interaktif.\n",
        "import plotly.graph_objects as go #Mengimpor plotly.graph_objects sebagai go. Ini digunakan untuk membuat visualisasi yang lebih kompleks dan khusus dengan Plotly.\n",
        "from colorama import Fore, Style #Mengimpor modul colorama, khususnya Fore dan Style, untuk menambahkan warna dan gaya pada teks di terminal/console. Ini bisa digunakan untuk membuat output teks lebih menarik secara visual.\n",
        "from typing import Dict      #Mengimpor Dict dari modul typing. Ini digunakan untuk memberi anotasi tipe dalam Python, yang berguna untuk menunjukkan bahwa sebuah variabel atau fungsi menggunakan atau mengembalikan sebuah kamus (dictionary).\n",
        "import streamlit as st       #Mengimpor pustaka streamlit sebagai st. streamlit digunakan untuk membuat aplikasi web interaktif dengan mudah menggunakan Python."
      ],
      "metadata": {
        "colab": {
          "base_uri": "https://localhost:8080/"
        },
        "id": "7H_x5jLpON9i",
        "outputId": "c9a5db45-ca72-4660-e8a9-558363f5e729"
      },
      "execution_count": 11,
      "outputs": [
        {
          "output_type": "stream",
          "name": "stderr",
          "text": [
            "[nltk_data] Downloading package vader_lexicon to /root/nltk_data...\n",
            "[nltk_data]   Package vader_lexicon is already up-to-date!\n"
          ]
        }
      ]
    },
    {
      "cell_type": "markdown",
      "source": [
        " **fungsi ini digunakan untuk mengekstrak video ID dari sebuah tautan YouTube, dan jika tautannya valid, video ID tersebut dikembalikan; jika tidak, fungsi ini mengembalikan None.**"
      ],
      "metadata": {
        "id": "2rqs5HbQT2lJ"
      }
    },
    {
      "cell_type": "code",
      "source": [
        "def extract_video_id(youtube_link): #Ini adalah definisi fungsi extract_video_id, yang menerima satu argumen youtube_link. Fungsi ini digunakan untuk mengekstrak video ID dari sebuah tautan YouTube.\n",
        "    video_id_regex = r\"^(?:https?:\\/\\/)?(?:www\\.)?(?:youtube\\.com\\/watch\\?v=|youtu.be\\/)([a-zA-Z0-9_-]{11})\" #Ini adalah definisi dari variabel video_id_regex, yang menyimpan sebuah ekspresi reguler (regex). Regex ini digunakan untuk mencocokkan pola pada tautan YouTube dan mengekstrak video ID yang terdiri dari 11 karakter (huruf, angka, tanda strip, atau garis bawah).\n",
        "    match = re.search(video_id_regex, youtube_link) #Baris ini menggunakan fungsi re.search dari modul re untuk mencari pola yang sesuai dengan video_id_regex dalam string youtube_link. Jika ditemukan kecocokan, hasilnya disimpan dalam variabel match.\n",
        "    if match: #if yang memeriksa apakah ada kecocokan (match tidak bernilai None). Jika ada, maka blok kode di dalam if akan dijalankan.\n",
        "\n",
        "        video_id = match.group(1) #baris ini mengekstrak bagian dari tautan yang cocok dengan grup pertama dalam regex (yaitu video ID), dan menyimpannya dalam variabel video_id.\n",
        "        return video_id #mengembalikan nilai video ID yang diekstrak oleh fungsi jika kecocokan ditemukan.\n",
        "    else:               #dijalankan jika tidak ada kecocokan (artinya, tautan tidak valid atau tidak mengandung video ID).\n",
        "\n",
        "        return None     #Jika tidak ada kecocokan, fungsi ini mengembalikan None, yang menunjukkan bahwa video ID tidak dapat diekstrak dari tautan yang diberikan.\n",
        "\n"
      ],
      "metadata": {
        "id": "3xzHv8bHKVco"
      },
      "execution_count": null,
      "outputs": []
    },
    {
      "cell_type": "markdown",
      "source": [
        "**Secara keseluruhan, fungsi ini membaca komentar-komentar dari file CSV, menganalisis sentimen masing-masing komentar, dan kemudian menghitung berapa banyak komentar yang netral, positif, atau negatif. Hasil akhirnya dikembalikan sebagai sebuah kamus.**\n",
        "\n",
        "\n",
        "\n",
        "\n",
        "\n",
        "\n"
      ],
      "metadata": {
        "id": "P0p5nc6lVtMn"
      }
    },
    {
      "cell_type": "code",
      "source": [
        "def analyze_sentiment(csv_file):\n",
        "    # Inisialisasi analisis sentimen\n",
        "    sid = SentimentIntensityAnalyzer()\n",
        "\n",
        "    # Membaca komentar YouTube dari file CSV\n",
        "    comments = []\n",
        "    with open(csv_file, 'r', encoding='utf-8-sig') as csvfile:\n",
        "        reader = csv.DictReader(csvfile)\n",
        "        for row in reader:\n",
        "            comments.append(row['Comment'])\n",
        "\n",
        "    # Menghitung jumlah komentar netral, positif, dan negatif\n",
        "    num_neutral = 0\n",
        "    num_positive = 0\n",
        "    num_negative = 0\n",
        "    for comment in comments:\n",
        "        sentiment_scores = sid.polarity_scores(comment)\n",
        "        if sentiment_scores['compound'] == 0.0:\n",
        "            num_neutral += 1\n",
        "        elif sentiment_scores['compound'] > 0.0:\n",
        "            num_positive += 1\n",
        "        else:\n",
        "            num_negative += 1\n",
        "\n",
        "    # Mengembalikan hasil sebagai kamus\n",
        "    results = {'num_neutral': num_neutral, 'num_positive': num_positive, 'num_negative': num_negative}\n",
        "    return results\n"
      ],
      "metadata": {
        "id": "RnyxyEtzKfjR"
      },
      "execution_count": null,
      "outputs": []
    },
    {
      "cell_type": "markdown",
      "source": [
        "**Secara keseluruhan, fungsi bar_chart ini digunakan untuk membuat dan menampilkan diagram batang yang merepresentasikan jumlah komentar YouTube yang positif, negatif, dan netral berdasarkan analisis sentimen. Diagram ini dibuat menggunakan Plotly dan ditampilkan dalam aplikasi Streamlit.**\n",
        "\n",
        "\n",
        "\n",
        "\n",
        "\n",
        "\n"
      ],
      "metadata": {
        "id": "n1mTlI3CWTbd"
      }
    },
    {
      "cell_type": "markdown",
      "source": [],
      "metadata": {
        "id": "oQsaHneHXUlI"
      }
    },
    {
      "cell_type": "markdown",
      "source": [],
      "metadata": {
        "id": "8DwrD0EZXeE5"
      }
    },
    {
      "cell_type": "code",
      "source": [
        "\n",
        "def bar_chart(csv_file: str) -> None:\n",
        "    # Memanggil fungsi analyze_sentiment untuk mendapatkan hasilnya\n",
        "    results: Dict[str, int] = analyze_sentiment(csv_file)\n",
        "\n",
        "    # Mengambil jumlah untuk setiap kategori sentimen\n",
        "    num_neutral = results['num_neutral']\n",
        "    num_positive = results['num_positive']\n",
        "    num_negative = results['num_negative']\n",
        "\n",
        "    # Membuat DataFrame Pandas dengan hasilnya\n",
        "    df = pd.DataFrame({\n",
        "        'Sentimen': ['Positif', 'Negatif', 'Netral'],\n",
        "        'Jumlah Komentar': [num_positive, num_negative, num_neutral]\n",
        "    })\n",
        "\n",
        "    # Membuat diagram batang menggunakan Plotly Express\n",
        "    fig = px.bar(df, x='Sentimen', y='Jumlah Komentar', color='Sentimen',\n",
        "                 color_discrete_sequence=['#87CEFA', '#FFA07A', '#D3D3D3'],\n",
        "                 title='Hasil Analisis Sentimen')\n",
        "    fig.update_layout(title_font=dict(size=20))\n",
        "\n",
        "    # Menampilkan diagram\n",
        "    st.plotly_chart(fig, use_container_width=True)\n"
      ],
      "metadata": {
        "id": "eNmt-3RKKrjb"
      },
      "execution_count": null,
      "outputs": []
    },
    {
      "cell_type": "markdown",
      "source": [
        "**Secara keseluruhan, fungsi plot_sentiment ini digunakan untuk membuat dan menampilkan diagram lingkaran yang merepresentasikan distribusi sentimen (netral, positif, negatif) dari komentar YouTube berdasarkan hasil analisis sentimen. Diagram ini dibuat menggunakan Plotly dan ditampilkan dalam aplikasi Streamlit.**"
      ],
      "metadata": {
        "id": "EBkfB30lXsgk"
      }
    },
    {
      "cell_type": "code",
      "source": [
        "\n",
        "def plot_sentiment(csv_file: str) -> None:\n",
        "    # Memanggil fungsi analyze_sentiment untuk mendapatkan hasilnya\n",
        "    results: Dict[str, int] = analyze_sentiment(csv_file)\n",
        "\n",
        "    # Mengambil jumlah untuk setiap kategori sentimen\n",
        "    num_neutral = results['num_neutral']\n",
        "    num_positive = results['num_positive']\n",
        "    num_negative = results['num_negative']\n",
        "\n",
        "    # Membuat diagram lingkaran\n",
        "    labels = ['Netral', 'Positif', 'Negatif']\n",
        "    values = [num_neutral, num_positive, num_negative]\n",
        "    colors = ['kuning', 'hijau', 'merah']\n",
        "    fig = go.Figure(data=[go.Pie(labels=labels, values=values, textinfo='label+percent',\n",
        "                                 marker=dict(colors=colors))])\n",
        "    fig.update_layout(title={'text': 'Hasil Analisis Sentimen', 'font': {'size': 20, 'family': 'Arial', 'color': 'abu-abu'},\n",
        "                              'x': 0.5, 'y': 0.9},\n",
        "                      font=dict(size=14))\n",
        "    st.plotly_chart(fig)"
      ],
      "metadata": {
        "id": "CZyWqBZpK3FI"
      },
      "execution_count": null,
      "outputs": []
    },
    {
      "cell_type": "markdown",
      "source": [
        "**Secara keseluruhan, fungsi create_scatterplot ini digunakan untuk membuat dan menampilkan scatter plot berdasarkan data dari file CSV. Fungsi ini memungkinkan pengguna memilih kolom mana yang akan digunakan untuk sumbu x dan y, serta menampilkan grafik yang dihasilkan dalam aplikasi Streamlit.**"
      ],
      "metadata": {
        "id": "84wmlpbzYMzY"
      }
    },
    {
      "cell_type": "code",
      "source": [
        "\n",
        "def create_scatterplot(csv_file: str, x_column: str, y_column: str) -> None:\n",
        "    # Memuat data dari file CSV\n",
        "    data = pd.read_csv(csv_file)\n",
        "\n",
        "    # Membuat plot sebar menggunakan Plotly\n",
        "    fig = px.scatter(data, x=x_column, y=y_column, color='Category')\n",
        "\n",
        "    # Menyesuaikan tata letak\n",
        "    fig.update_layout(\n",
        "        title='Plot Sebar',\n",
        "        xaxis_title=x_column,\n",
        "        yaxis_title=y_column,\n",
        "        font=dict(size=18)\n",
        "    )\n",
        "\n",
        "    # Menampilkan plot di Streamlit\n",
        "    st.plotly_chart(fig, use_container_width=True)\n",
        "\n"
      ],
      "metadata": {
        "id": "voaCXK4cK_iE"
      },
      "execution_count": null,
      "outputs": []
    },
    {
      "cell_type": "markdown",
      "source": [
        "**Secara keseluruhan, fungsi print_sentiment ini digunakan untuk menganalisis sentimen dari komentar-komentar dalam file CSV, menentukan sentimen keseluruhan (positif, negatif, atau netral), dan mencetak hasil tersebut ke terminal dengan format yang menonjol menggunakan warna sesuai hasil analisis.**"
      ],
      "metadata": {
        "id": "YgTQc9XMYnIN"
      }
    },
    {
      "cell_type": "code",
      "source": [],
      "metadata": {
        "id": "ZBa4XNROYm1J"
      },
      "execution_count": null,
      "outputs": []
    },
    {
      "cell_type": "code",
      "source": [
        "def print_sentiment(csv_file: str) -> None:\n",
        "    # Panggil fungsi analyze_sentiment untuk mendapatkan hasilnya\n",
        "    results: Dict[str, int] = analyze_sentiment(csv_file)\n",
        "\n",
        "    # Dapatkan jumlah untuk setiap kategori sentimen\n",
        "    num_neutral = results['num_neutral']\n",
        "    num_positive = results['num_positive']\n",
        "    num_negative = results['num_negative']\n",
        "\n",
        "    # Tentukan sentimen keseluruhan\n",
        "    if num_positive > num_negative:\n",
        "        overall_sentiment = 'POSITIVE'\n",
        "        color = Fore.GREEN\n",
        "    elif num_negative > num_positive:\n",
        "        overall_sentiment = 'NEGATIVE'\n",
        "        color = Fore.RED\n",
        "    else:\n",
        "        overall_sentiment = 'NEUTRAL'\n",
        "        color = Fore.YELLOW\n",
        "\n",
        "    # Cetak sentimen keseluruhan dengan warna\n",
        "    print('\\n' + Style.BRIGHT + color + overall_sentiment.upper().center(50, ' ') + Style.RESET_ALL)\n",
        "\n"
      ],
      "metadata": {
        "id": "9h6oO2VZLFed"
      },
      "execution_count": null,
      "outputs": []
    },
    {
      "cell_type": "markdown",
      "source": [
        "**Tujuan dan Fungsi Umum:**\n",
        "\n",
        "Kode yang kamu berikan secara keseluruhan bertujuan untuk melakukan analisis sentimen pada data komentar yang diambil dari file CSV, memvisualisasikan hasil analisis tersebut dalam berbagai bentuk grafik, dan menampilkan informasi hasil analisis di terminal atau aplikasi web berbasis Streamlit.\n",
        "\n",
        "\n",
        "**Rangkuman Fungsi:**\n",
        "analyze_sentiment(csv_file: str) -> Dict[str, int]:\n",
        "\n",
        "- Fungsi ini menganalisis sentimen dari komentar yang terdapat dalam file CSV, menghitung jumlah komentar yang netral, positif, dan negatif, serta mengembalikan hasilnya dalam bentuk dictionary.\n",
        "bar_chart(csv_file: str) -> None:\n",
        "\n",
        "- Fungsi ini memvisualisasikan hasil analisis sentimen dalam bentuk diagram batang (bar chart) menggunakan Plotly dan menampilkannya di aplikasi Streamlit.\n",
        "plot_sentiment(csv_file: str) -> None:\n",
        "\n",
        "- Fungsi ini memvisualisasikan hasil analisis sentimen dalam bentuk diagram lingkaran (pie chart) menggunakan Plotly dan menampilkannya di aplikasi Streamlit.\n",
        "create_scatterplot(csv_file: str, x_column: str, y_column: str) -> None:\n",
        "\n",
        "- Fungsi ini memungkinkan pembuatan scatter plot berdasarkan data dari file CSV, dengan sumbu x dan y yang dapat ditentukan oleh pengguna, serta menampilkannya di aplikasi Streamlit.\n",
        "print_sentiment(csv_file: str) -> None:\n",
        "\n",
        "- Fungsi ini mencetak hasil sentimen keseluruhan (positif, negatif, atau netral) berdasarkan jumlah komentar yang dihitung dari hasil analisis, dengan menggunakan warna yang sesuai untuk menonjolkan hasil di terminal.\n",
        "\n",
        "\n",
        "\n",
        "**Kesimpulan Utama:**\n",
        "Kumpulan kode ini memberikan kemampuan untuk melakukan analisis sentimen secara menyeluruh pada data komentar, mulai dari penghitungan statistik sentimen, visualisasi hasil dalam bentuk grafik interaktif (bar chart, pie chart, scatter plot), hingga pencetakan hasil sentimen keseluruhan ke terminal. Dengan menggunakan pustaka seperti NLTK, Pandas, Plotly, dan Streamlit, kode ini dirancang untuk mendukung analisis dan penyajian data secara interaktif dan mudah diakses, baik di terminal maupun dalam aplikasi web.\n"
      ],
      "metadata": {
        "id": "jzaA2bYQZBRQ"
      }
    }
  ]
}